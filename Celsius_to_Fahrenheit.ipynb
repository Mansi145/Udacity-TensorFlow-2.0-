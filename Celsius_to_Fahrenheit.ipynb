{
  "nbformat": 4,
  "nbformat_minor": 0,
  "metadata": {
    "colab": {
      "name": "Celsius to Fahrenheit",
      "provenance": [],
      "collapsed_sections": []
    },
    "kernelspec": {
      "name": "python3",
      "display_name": "Python 3"
    }
  },
  "cells": [
    {
      "cell_type": "code",
      "metadata": {
        "id": "54b8b-b48t2o",
        "colab_type": "code",
        "colab": {}
      },
      "source": [
        "from __future__ import absolute_import, division, print_function, unicode_literals"
      ],
      "execution_count": 0,
      "outputs": []
    },
    {
      "cell_type": "code",
      "metadata": {
        "id": "VA-cNgCmuBA9",
        "colab_type": "code",
        "colab": {}
      },
      "source": [
        "try:\n",
        "  %tensorflow_version 2.x\n",
        "except Exception:\n",
        "  pass\n",
        "\n",
        "import tensorflow as tf"
      ],
      "execution_count": 0,
      "outputs": []
    },
    {
      "cell_type": "code",
      "metadata": {
        "id": "oPXil9KizREU",
        "colab_type": "code",
        "colab": {}
      },
      "source": [
        "import numpy as np"
      ],
      "execution_count": 0,
      "outputs": []
    },
    {
      "cell_type": "markdown",
      "metadata": {
        "id": "MFpfdkxWG1My",
        "colab_type": "text"
      },
      "source": [
        "<h2>Set up training data</h2>\n",
        "As we saw before, supervised Machine Learning is all about figuring out an algorithm given a set of inputs and outputs. Since the task in this Codelab is to create a model that can give the temperature in Fahrenheit when given the degrees in Celsius, we create two lists celsius_q and fahrenheit_a that we can use to train our model."
      ]
    },
    {
      "cell_type": "code",
      "metadata": {
        "id": "W3M8WT6gzRAv",
        "colab_type": "code",
        "colab": {}
      },
      "source": [
        "celsius_q    = np.array([-46, -18,  0,  69, 42, 90,  206],  dtype=float)\n",
        "fahrenheit_a = np.array([-50, 0, 32, 156, 107, 194, 402],  dtype=float)"
      ],
      "execution_count": 0,
      "outputs": []
    },
    {
      "cell_type": "markdown",
      "metadata": {
        "id": "4R360PFEHDbC",
        "colab_type": "text"
      },
      "source": [
        "<h2>Create the model</h2>\n",
        "Next create the model. We will use simplest possible model we can, a Dense network. Since the problem is straightforward, this network will require only a single layer, with a single neuron.\n",
        "\n",
        "Build a layer\n",
        "We'll call the layer l0 and create it by instantiating tf.keras.layers.Dense with the following configuration:\n",
        "\n",
        "1. input_shape=[1] — This specifies that the input to this layer is a single value. That is, the shape is a one-dimensional array with one member.\n",
        "\n",
        "2. units=1 — This specifies the number of neurons in the layer."
      ]
    },
    {
      "cell_type": "code",
      "metadata": {
        "id": "de5IXhwz0wOp",
        "colab_type": "code",
        "colab": {}
      },
      "source": [
        "#Building a single layers with a single neuron(units) and a 1-D input(input_shape)\n",
        "l0 = tf.keras.layers.Dense(units=1, input_shape=[1])"
      ],
      "execution_count": 0,
      "outputs": []
    },
    {
      "cell_type": "markdown",
      "metadata": {
        "id": "MdzmsUGHHNgW",
        "colab_type": "text"
      },
      "source": [
        "<h2>Assemble layers into the model</h2>\n",
        "Once layers are defined, they need to be assembled into a model. The Sequential model definition takes a list of layers as argument, specifying the calculation order from the input to the output.\n",
        "\n",
        "This model has just a single layer, l0."
      ]
    },
    {
      "cell_type": "code",
      "metadata": {
        "id": "kQ27cjJU0wMy",
        "colab_type": "code",
        "colab": {}
      },
      "source": [
        "#Assembling the layers into the model. Takes in a list of layers as an argument.\n",
        "model = tf.keras.Sequential([l0])\n",
        "\n",
        "#model = tf.keras.Sequential([tf.keras.layers.Dense(units=1, input_shape=[1])])"
      ],
      "execution_count": 0,
      "outputs": []
    },
    {
      "cell_type": "markdown",
      "metadata": {
        "id": "XmMMR9LWHisd",
        "colab_type": "text"
      },
      "source": [
        "<h2>Compile the model, with loss and optimizer functions</h2>\n",
        "Before training, the model has to be compiled. When compiled for training, the model is given:\n",
        "\n",
        "1. Loss function — A way of measuring how far off predictions are from the desired outcome. (The measured difference is called the \"loss\".)\n",
        "\n",
        "2. Optimizer function — A way of adjusting internal values in order to reduce the loss."
      ]
    },
    {
      "cell_type": "code",
      "metadata": {
        "id": "zGjSSbkG0wAY",
        "colab_type": "code",
        "colab": {}
      },
      "source": [
        "#Compiling with the Loss Function and the Optimizer Function.\n",
        "model.compile(loss=\"mean_squared_error\",\n",
        "              optimizer=tf.keras.optimizers.Adam(0.1))"
      ],
      "execution_count": 0,
      "outputs": []
    },
    {
      "cell_type": "markdown",
      "metadata": {
        "id": "lO4Jc9DO3C2y",
        "colab_type": "text"
      },
      "source": [
        "The learning rate for the Optimizing Function can go from 0.001(default) to 0.1."
      ]
    },
    {
      "cell_type": "markdown",
      "metadata": {
        "id": "fS-_KSzx4vZH",
        "colab_type": "text"
      },
      "source": [
        "<h2>Train the model</h2>\n",
        "Train the model by calling the <b>fit</b> method.\n",
        "\n",
        "During training, the model takes in Celsius values, performs a calculation using the current internal variables (called \"weights\") and outputs values which are meant to be the Fahrenheit equivalent. The difference between the actual output and the desired output is calculated using the loss function, and the optimizer function directs how the weights should be adjusted.\n",
        "\n",
        "This cycle of calculate, compare, adjust is controlled by the fit method. The first argument is the inputs, the second argument is the desired outputs. The epochs argument specifies how many times this cycle should be run, and the verbose argument controls how much output the method produces."
      ]
    },
    {
      "cell_type": "code",
      "metadata": {
        "id": "peur9wj24KJ9",
        "colab_type": "code",
        "outputId": "f751b122-0c57-47a6-926c-54af42aa95db",
        "colab": {
          "base_uri": "https://localhost:8080/",
          "height": 34
        }
      },
      "source": [
        "#Keep verbose False. No practical use(as of now). \n",
        "#Epoch kept very high because the small dataset.\n",
        "trained_model = model.fit(celsius_q, fahrenheit_a, epochs=1000, verbose=False)\n",
        "print(\"Finished training the model\")"
      ],
      "execution_count": 0,
      "outputs": [
        {
          "output_type": "stream",
          "text": [
            "Finished training the model\n"
          ],
          "name": "stdout"
        }
      ]
    },
    {
      "cell_type": "markdown",
      "metadata": {
        "id": "9nUGxEiuH_4a",
        "colab_type": "text"
      },
      "source": [
        "## Display training statistics\n",
        "\n",
        "The `fit` method returns a history object. We can use this object to plot how the loss of our model goes down after each training epoch. A high loss means that the Fahrenheit degrees the model predicts is far from the corresponding value in `fahrenheit_a`."
      ]
    },
    {
      "cell_type": "code",
      "metadata": {
        "id": "wzX06kU34KGo",
        "colab_type": "code",
        "outputId": "8460c2c7-399f-449b-e167-6515fe2b4278",
        "colab": {
          "base_uri": "https://localhost:8080/",
          "height": 301
        }
      },
      "source": [
        "#Loss as compared to Epochs\n",
        "import matplotlib.pyplot as plt\n",
        "plt.plot(trained_model.history['loss'])\n",
        "plt.xlabel(\"Epochs\")\n",
        "plt.ylabel(\"Loss\")"
      ],
      "execution_count": 0,
      "outputs": [
        {
          "output_type": "execute_result",
          "data": {
            "text/plain": [
              "Text(0, 0.5, 'Loss')"
            ]
          },
          "metadata": {
            "tags": []
          },
          "execution_count": 258
        },
        {
          "output_type": "display_data",
          "data": {
            "image/png": "[encoded data removed]",
            "text/plain": [
              "<Figure size 432x288 with 1 Axes>"
            ]
          },
          "metadata": {
            "tags": []
          }
        }
      ]
    },
    {
      "cell_type": "markdown",
      "metadata": {
        "id": "7_lccNp8IDwy",
        "colab_type": "text"
      },
      "source": [
        "## Predicted values and calculating accuracy of the model"
      ]
    },
    {
      "cell_type": "code",
      "metadata": {
        "id": "R-Mn9Q-B6GV1",
        "colab_type": "code",
        "outputId": "b896a204-0957-4cf3-b6fb-4c5589053d39",
        "colab": {
          "base_uri": "https://localhost:8080/",
          "height": 140
        }
      },
      "source": [
        "predicted_values = model.predict([-40, -10,  0,  8, 15, 22,  38])\n",
        "true_values = [-40,  14, 32, 46, 59, 72, 100]\n",
        "predicted_values"
      ],
      "execution_count": 0,
      "outputs": [
        {
          "output_type": "execute_result",
          "data": {
            "text/plain": [
              "array([[-43.308357],\n",
              "       [ 11.059517],\n",
              "       [ 29.182142],\n",
              "       [ 43.680244],\n",
              "       [ 56.36608 ],\n",
              "       [ 69.05192 ],\n",
              "       [ 98.04812 ]], dtype=float32)"
            ]
          },
          "metadata": {
            "tags": []
          },
          "execution_count": 259
        }
      ]
    },
    {
      "cell_type": "code",
      "metadata": {
        "id": "tdKAKqhyAWWW",
        "colab_type": "code",
        "outputId": "afbef4c2-a37b-4d6b-d627-c9702f2ed47b",
        "colab": {
          "base_uri": "https://localhost:8080/",
          "height": 70
        }
      },
      "source": [
        "MSE_error = tf.keras.losses.MSE(true_values, predicted_values)\n",
        "MSE_error"
      ],
      "execution_count": 0,
      "outputs": [
        {
          "output_type": "execute_result",
          "data": {
            "text/plain": [
              "<tf.Tensor: id=47162, shape=(7,), dtype=float32, numpy=\n",
              "array([8748.976 , 2599.6433, 1863.5842, 1747.6755, 1991.1063, 2556.3982,\n",
              "       5057.114 ], dtype=float32)>"
            ]
          },
          "metadata": {
            "tags": []
          },
          "execution_count": 260
        }
      ]
    }
  ]
}